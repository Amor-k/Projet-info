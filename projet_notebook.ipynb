{
 "cells": [
  {
   "cell_type": "code",
   "execution_count": null,
   "metadata": {},
   "outputs": [
    {
     "ename": "",
     "evalue": "",
     "output_type": "error",
     "traceback": [
      "\u001b[1;31mRunning cells with 'Python 3.11.2' requires the ipykernel package.\n",
      "\u001b[1;31mRun the following command to install 'ipykernel' into the Python environment. \n",
      "\u001b[1;31mCommand: '/bin/python3 -m pip install ipykernel -U --user --force-reinstall'"
     ]
    }
   ],
   "source": [
    "import random as rd\n",
    "import matplotlib.pyplot as plt\n",
    "import numpy as np"
   ]
  },
  {
   "cell_type": "code",
   "execution_count": null,
   "metadata": {},
   "outputs": [],
   "source": [
    "def aleatoire(L):\n",
    "    return rd.randint(0.1,2*np.sqrt(2)*L)\n",
    "def distances(n,L):\n",
    "    D=np.array([[0 for i in range(n)] for i in range(n)])\n",
    "    for i in range(n):\n",
    "        for j in range(i,n):\n",
    "            if i!=j: \n",
    "                D[i][j]=aleatoire(L)               \n",
    "    for i in range(n):\n",
    "        for j in range(0,i):\n",
    "            D[i][j]=D[j][i] \n",
    "    return D"
   ]
  },
  {
   "cell_type": "markdown",
   "metadata": {},
   "source": [
    "# Solution n°1: Brute Force\n",
    "# Objectif 1 : générer toute les permutations possible d'une liste à n nombre"
   ]
  },
  {
   "cell_type": "code",
   "execution_count": null,
   "metadata": {},
   "outputs": [],
   "source": [
    "def permutation(liste,resultat):\n",
    "    if len(liste)==1:\n",
    "        return [liste]\n",
    "    for i in range(len(liste)):\n",
    "        element=liste[i]\n",
    "        reste=reste = liste[:i] + liste[i+1:]\n",
    "        sous_permutation=permutation(reste,resultat)\n",
    "        a=[element] + sous_permutation\n",
    "        resultat.append(a)\n",
    "    return resultat\n",
    "\n",
    "#objectif 2 : calculer la distance totale pour chaque itinéraire possible et déterminer la distance minimale\n",
    "def chemin_opti(n,L):\n",
    "    resultat=permutation([i for i in range(1,n+1)])\n",
    "    les_distances=distances(n,L)\n",
    "    distance_min=[les_distances[1][2]]\n",
    "    for chemin in resultat:\n",
    "        distance_total=0\n",
    "        for k in range(1,n):\n",
    "            distance_totale=distance_totale + les_distances[k][k-1]\n",
    "        if distance_totale < distance_min:\n",
    "            distance_min=distance_totale\n",
    "            chemin_court=chemin\n",
    "    print(\"le chemin le plus optimisé est\",chemin_court,\"pour une distance parcourue de\",distance_min)\n",
    "    return chemin_court,distance_min"
   ]
  },
  {
   "cell_type": "markdown",
   "metadata": {},
   "source": [
    "#Solution n°2: appliquer l'algorithme de ... pour rendre la tache moins couteuse"
   ]
  },
  {
   "cell_type": "code",
   "execution_count": null,
   "metadata": {},
   "outputs": [],
   "source": [
    "class arbre():\n",
    "    def __init__(self, val ):\n",
    "        self.gauche= None\n",
    "        self.droite= None\n",
    "        self.data= None"
   ]
  },
  {
   "cell_type": "code",
   "execution_count": null,
   "metadata": {},
   "outputs": [],
   "source": []
  }
 ],
 "metadata": {
  "kernelspec": {
   "display_name": "Python 3",
   "language": "python",
   "name": "python3"
  },
  "language_info": {
   "name": "python",
   "version": "3.11.2"
  }
 },
 "nbformat": 4,
 "nbformat_minor": 2
}
