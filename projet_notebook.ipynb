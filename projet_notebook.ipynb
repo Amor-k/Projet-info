{
 "cells": [
  {
   "cell_type": "code",
   "execution_count": 1,
   "metadata": {},
   "outputs": [],
   "source": [
    "import random as rd\n",
    "import matplotlib.pyplot as plt\n",
    "import numpy as np"
   ]
  },
  {
   "cell_type": "code",
   "execution_count": 2,
   "metadata": {},
   "outputs": [],
   "source": [
    "def aleatoire(L):\n",
    "    return rd.randint(0.1,2*np.sqrt(2)*L)\n",
    "def distances(n,L):\n",
    "    D=np.array([[0 for i in range(n)] for i in range(n)])\n",
    "    for i in range(n):\n",
    "        for j in range(i,n):\n",
    "            if i!=j: \n",
    "                D[i][j]=aleatoire(L)               \n",
    "    for i in range(n):\n",
    "        for j in range(0,i):\n",
    "            D[i][j]=D[j][i] \n",
    "    return D"
   ]
  },
  {
   "cell_type": "markdown",
   "metadata": {},
   "source": [
    "# Solution n°1: Brute Force\n",
    "# Objectif 1 : générer toute les permutations possible d'une liste à n nombre"
   ]
  },
  {
   "cell_type": "code",
   "execution_count": 3,
   "metadata": {},
   "outputs": [],
   "source": [
    "def permutation(liste,resultat):\n",
    "    if len(liste)==1:\n",
    "        return [liste]\n",
    "    for i in range(len(liste)):\n",
    "        element=liste[i]\n",
    "        reste=reste = liste[:i] + liste[i+1:]\n",
    "        sous_permutation=permutation(reste,resultat)\n",
    "        a=[element] + sous_permutation\n",
    "        resultat.append(a)\n",
    "    return resultat\n",
    "\n",
    "#objectif 2 : calculer la distance totale pour chaque itinéraire possible et déterminer la distance minimale\n",
    "def chemin_opti(n,L):\n",
    "    resultat=permutation([i for i in range(1,n+1)])\n",
    "    les_distances=distances(n,L)\n",
    "    distance_min=[les_distances[1][2]]\n",
    "    for chemin in resultat:\n",
    "        distance_total=0\n",
    "        for k in range(1,n):\n",
    "            distance_totale=distance_totale + les_distances[k][k-1]\n",
    "        if distance_totale < distance_min:\n",
    "            distance_min=distance_totale\n",
    "            chemin_court=chemin\n",
    "    print(\"le chemin le plus optimisé est\",chemin_court,\"pour une distance parcourue de\",distance_min)\n",
    "    return chemin_court,distance_min"
   ]
  },
  {
   "cell_type": "markdown",
   "metadata": {},
   "source": [
    "#Solution n°2: appliquer l'algorithme de ... pour rendre la tache moins couteuse"
   ]
  },
  {
   "cell_type": "code",
   "execution_count": 4,
   "metadata": {},
   "outputs": [],
   "source": [
    "class arbre():\n",
    "    def __init__(self, val ):\n",
    "        self.gauche= None\n",
    "        self.droite= None\n",
    "        self.data= None"
   ]
  },
  {
   "cell_type": "code",
   "execution_count": null,
   "metadata": {},
   "outputs": [],
   "source": [
    "def aleatoire(L):\n",
    "    return rd.random()*L\n",
    "def association(L):\n",
    "    A=[0,0]\n",
    "    for i in range(2):\n",
    "        A[i]=aleatoire(L)\n",
    "def distance_euclidienne(A,B):\n",
    "    return np.sqrt((A[0]-B[0]**2)+(A[1]-B[2]**2))\n",
    "def les_distances(n,L):\n",
    "    Ai=association(L,n)\n",
    "    D=np.array([[0 for i in range(n)] for i in range(n)])\n",
    "    for i in range(n):\n",
    "        for j in range(i,n):\n",
    "            if i!=j: \n",
    "                D[i][j]=distance_euclidienne(Ai[i],Ai[j])               \n",
    "    for i in range(n):\n",
    "        for j in range(0,i):\n",
    "            D[i][j]=D[j][i] \n",
    "    return D, Ai\n",
    "\n",
    "les_distances()\n"
   ]
  }
 ],
 "metadata": {
  "kernelspec": {
   "display_name": "Python 3",
   "language": "python",
   "name": "python3"
  },
  "language_info": {
   "codemirror_mode": {
    "name": "ipython",
    "version": 3
   },
   "file_extension": ".py",
   "mimetype": "text/x-python",
   "name": "python",
   "nbconvert_exporter": "python",
   "pygments_lexer": "ipython3",
   "version": "3.11.2"
  }
 },
 "nbformat": 4,
 "nbformat_minor": 2
}
