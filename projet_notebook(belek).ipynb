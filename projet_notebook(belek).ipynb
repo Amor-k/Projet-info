{
 "cells": [
  {
   "cell_type": "code",
   "execution_count": 4,
   "metadata": {},
   "outputs": [],
   "source": [
    "import random as rd\n",
    "import matplotlib.pyplot as plt\n",
    "import numpy as np"
   ]
  },
  {
   "cell_type": "markdown",
   "metadata": {},
   "source": [
    "Objectif 1 : générer toute les villes dont les coordonnées sont aléatoires, calculer les distances entre les villes et classer ces information dans une matrice qui contient les distance entre toute les villes."
   ]
  },
  {
   "cell_type": "code",
   "execution_count": 5,
   "metadata": {},
   "outputs": [],
   "source": [
    "def aleatoire(L):\n",
    "    return rd.random()*L        #génére un nombre aléatoire entre 0 et L\n",
    "\n",
    "def association(L):             #crée un point dont les 2 coordonnées sont aléatoires\n",
    "    A=[0,0]\n",
    "    for i in range(2):\n",
    "        A[i]=aleatoire(L)\n",
    "    return A\n",
    "def les_Ai(n,L):                #crée un tableau contenant les n villes dont les coordonnées sont aléatoires \n",
    "    Ai=[[0,0] for i in range(n)]\n",
    "    for k in range(n):\n",
    "        Ai[k]=association(L)\n",
    "    return Ai\n",
    "\n",
    "def distance_euclidienne(A,B):      #permet de calculer la distanc entre 2 points d'un plan\n",
    "    return np.sqrt((A[0]-B[0])**2+(A[1]-B[1])**2)\n",
    "\n",
    "\n",
    "def les_distances(n,L):         #calcule les distance entre chaque ville et rentre les informations dans une matrice symétrique dont la diagonale est composée de 0\n",
    "    Ai=les_Ai(n,L)\n",
    "    D=np.array([[0 for i in range(n)] for i in range(n)])\n",
    "    for i in range(n):\n",
    "        for j in range(i,n):\n",
    "            if i!=j: \n",
    "                D[i][j]=distance_euclidienne(Ai[i],Ai[j])               \n",
    "    for i in range(n):\n",
    "        for j in range(0,i):\n",
    "            D[i][j]=D[j][i] \n",
    "    return D\n"
   ]
  },
  {
   "cell_type": "markdown",
   "metadata": {},
   "source": [
    "# Solution n°1: Brute Force\n",
    " Objectif 2 : générer toute les permutations possible d'une liste à n nombre de telle sorte à avoir tout les iténéraires possibles puis les tester un à un en calculant la distance totale de parcour à chaque fois. Le programme nous retourne l'iténéraire avec la distance de parcours minimale ainsi que la valuer de cette distance."
   ]
  },
  {
   "cell_type": "code",
   "execution_count": 10,
   "metadata": {},
   "outputs": [
    {
     "name": "stdout",
     "output_type": "stream",
     "text": [
      "le chemin le plus optimisé est [] pour une distance parcourue de [5]\n"
     ]
    },
    {
     "data": {
      "text/plain": [
       "40"
      ]
     },
     "execution_count": 10,
     "metadata": {},
     "output_type": "execute_result"
    }
   ],
   "source": [
    "def permutation(liste, resultat=None):  # On définit \"resultat\" avec une valeur par défaut\n",
    "    if resultat is None:  # Si \"resultat\" est \"None\", on l'initialise comme une liste vide\n",
    "        resultat = []\n",
    "\n",
    "    if len(liste) == 1:  # Si la liste a un seul élément, on retourne une liste contenant cet élément\n",
    "        return [liste]\n",
    "\n",
    "    for i in range(len(liste)):\n",
    "        element = liste[i]\n",
    "        reste = liste[:i] + liste[i+1:]  # Créer une sous-liste sans \"element\"\n",
    "        sous_permutation = permutation(reste)  # Récursivement, on génère toutes les permutations des éléments restants\n",
    "        for perm in sous_permutation:\n",
    "            resultat.append([element] + perm)  # Ajouter l'élément au début de chaque permutation générée\n",
    "\n",
    "    return resultat\n",
    "\n",
    "\n",
    "def chemin_opti(n,L):           #teste tout les iténéraire en calculant les distance et détermine le chemin le optimal\n",
    "    liste_iteneraire=permutation([i for i in range(1,n+1)])\n",
    "    matrice_distances=les_distances(n,L)\n",
    "    distance_min=[matrice_distances[1][2]]\n",
    "    chemin_court=[]\n",
    "    \n",
    "    for chemin in liste_iteneraire:\n",
    "        distance_totale=0\n",
    "        for k in range(1,n-1):\n",
    "            distance_totale=distance_totale + matrice_distances[k][k-1]\n",
    "        \n",
    "        if distance_totale < distance_min:\n",
    "            distance_min=distance_totale\n",
    "            chemin_court=chemin\n",
    "\n",
    "    print(\"le chemin le plus optimisé est\",chemin_court,\"pour une distance parcourue de\",distance_min)\n",
    "    return chemin_court,distance_min\n",
    "\n",
    "#chemin_opti(4,50)\n",
    "\n",
    "M=les_distances(4,50)\n",
    "M[1][2]\n"
   ]
  },
  {
   "cell_type": "code",
   "execution_count": 43,
   "metadata": {},
   "outputs": [
    {
     "name": "stdout",
     "output_type": "stream",
     "text": [
      "Meilleur chemin: [0, 2, 1, 3, 4, 0], Distance: 5.00\n"
     ]
    },
    {
     "data": {
      "text/plain": [
       "([0, 2, 1, 3, 4, 0], 5)"
      ]
     },
     "execution_count": 43,
     "metadata": {},
     "output_type": "execute_result"
    }
   ],
   "source": [
    "import numpy as np\n",
    "import random as rd\n",
    "\n",
    "def aleatoire(L):\n",
    "    return rd.random() * L  # Génère un nombre aléatoire entre 0 et L (float)\n",
    "\n",
    "def association(L):\n",
    "    return [aleatoire(L), aleatoire(L)]  # Crée un point 2D aléatoire\n",
    "\n",
    "def les_Ai(n, L):\n",
    "    return [association(L) for _ in range(n)]  # Liste de n points aléatoires\n",
    "\n",
    "def distance_euclidienne(A, B):\n",
    "    return np.sqrt((A[0] - B[0])**2 + (A[1] - B[1])**2)  # Distance entre 2 points\n",
    "\n",
    "def les_distances(n,L):         #calcule les distance entre chaque ville et rentre les informations dans une matrice symétrique dont la diagonale est composée de 0\n",
    "    Ai=les_Ai(n,L)\n",
    "    D=np.array([[0 for i in range(n)] for i in range(n)])\n",
    "    for i in range(n):\n",
    "        for j in range(i,n):\n",
    "            if i!=j: \n",
    "                D[i][j]=distance_euclidienne(Ai[i],Ai[j])               \n",
    "    for i in range(n):\n",
    "        for j in range(0,i):\n",
    "            D[i][j]=D[j][i] \n",
    "    return D\n",
    "\n",
    "\n",
    "def permutation(liste):\n",
    "    if len(liste) == 1:\n",
    "        return [liste]  # Cas de base: une seule permutation possible\n",
    "    all_perms = []\n",
    "    for i in range(len(liste)):\n",
    "        first_elem = liste[i]  # Élément actuel\n",
    "        remaining_elems = liste[:i] + liste[i+1:]  # Liste sans l'élément actuel\n",
    "        for perm in permutation(remaining_elems):  # Appel récursif\n",
    "            all_perms.append([first_elem] + perm)  # Combine les permutations\n",
    "    return all_perms  # Retourne toutes les permutations possibles\n",
    "\n",
    "def chemin_opti(n, L):\n",
    "    villes = list(range(n))  # Liste des villes: [0, 1, ..., n-1]\n",
    "    autres_villes = villes[1:]  # Exclut la ville de départ (0)\n",
    "    matrice_distances = les_distances(n, L)  # Matrice des distances\n",
    "    min_distance = float('inf')  # Initialise la distance minimale à l'infini\n",
    "    best_path = None  # Meilleur chemin trouvé\n",
    "\n",
    "    all_perms = permutation(autres_villes)  # Génère toutes les permutations\n",
    "    for perm in all_perms:\n",
    "        path = [0] + perm + [0]  # Chemin complet (ex: [0, 1, 2, 0])\n",
    "        distance = 0\n",
    "        for i in range(len(path) - 1):\n",
    "            distance += matrice_distances[path[i]][path[i+1]]  # Somme des distances\n",
    "        if distance < min_distance:  # Met à jour le meilleur chemin\n",
    "            min_distance = distance\n",
    "            best_path = path\n",
    "\n",
    "    print(f\"Meilleur chemin: {best_path}, Distance: {min_distance:.2f}\")\n",
    "    return best_path, min_distance\n",
    "    \n",
    "chemin_opti(5,4)"
   ]
  },
  {
   "cell_type": "code",
   "execution_count": null,
   "metadata": {},
   "outputs": [],
   "source": []
  },
  {
   "cell_type": "markdown",
   "metadata": {},
   "source": [
    "# Solution n°2: appliquer l'algorithme de Kruskal pour rendre la tache moins couteuse"
   ]
  },
  {
   "cell_type": "code",
   "execution_count": 2,
   "metadata": {},
   "outputs": [],
   "source": [
    "class arbre():\n",
    "    def __init__(self, val ):\n",
    "        self.gauche= None\n",
    "        self.droite= None\n",
    "        self.data= None"
   ]
  }
 ],
 "metadata": {
  "kernelspec": {
   "display_name": "Python 3 (ipykernel)",
   "language": "python",
   "name": "python3"
  },
  "language_info": {
   "codemirror_mode": {
    "name": "ipython",
    "version": 3
   },
   "file_extension": ".py",
   "mimetype": "text/x-python",
   "name": "python",
   "nbconvert_exporter": "python",
   "pygments_lexer": "ipython3",
   "version": "3.12.7"
  }
 },
 "nbformat": 4,
 "nbformat_minor": 4
}
